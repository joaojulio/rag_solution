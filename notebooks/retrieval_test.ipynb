{
 "cells": [
  {
   "cell_type": "code",
   "execution_count": 3,
   "metadata": {},
   "outputs": [],
   "source": [
    "import pinecone\n",
    "from pinecone import Pinecone, ServerlessSpec\n",
    "import os\n",
    "import sys\n",
    "from pathlib import Path\n",
    "\n",
    "current_dir = Path(os.getcwd())\n",
    "parent_dir = str(current_dir.parent)\n",
    "sys.path.append(parent_dir)\n",
    "\n",
    "from src.embeddings.embedding_service import get_embedding"
   ]
  },
  {
   "cell_type": "code",
   "execution_count": null,
   "metadata": {},
   "outputs": [],
   "source": [
    "def init_index(index_name=\"origin-of-species-index\"):\n",
    "    \"\"\"\n",
    "    Inicializa e retorna o índice do Pinecone.\n",
    "    \"\"\"\n",
    "    PINECONE_API_KEY = os.getenv(\"PINECONE_API_KEY\")\n",
    "    if not PINECONE_API_KEY:\n",
    "        raise ValueError(\"A variável de ambiente PINECONE_API_KEY não está definida.\")\n",
    "\n",
    "    \n",
    "    pc = Pinecone(api_key=PINECONE_API_KEY)\n",
    "    \n",
    "    index = pc.Index(index_name)\n",
    "    return index\n",
    "\n",
    "def retrieve_relevant_chunks(query: str, index, top_k: int = 5, namespace: str = None):\n",
    "    \"\"\"\n",
    "    Recupera os chunks mais relevantes para a query fornecida, utilizando o Pinecone.\n",
    "    \n",
    "    Parâmetros:\n",
    "      query: A consulta em linguagem natural.\n",
    "      index: O objeto de índice Pinecone.\n",
    "      top_k: Número de resultados a retornar.\n",
    "      namespace: (Opcional) Namespace a ser usado no índice.\n",
    "    \n",
    "    Retorna:\n",
    "      A resposta do método de query do Pinecone, contendo os vetores mais similares.\n",
    "    \"\"\"\n",
    "    \n",
    "    query_embedding = get_embedding(query)\n",
    "    \n",
    "    result = index.query(\n",
    "        vector=query_embedding,\n",
    "        top_k=top_k,\n",
    "        include_metadata=True,\n",
    "        namespace=namespace\n",
    "    )\n",
    "    return result"
   ]
  },
  {
   "cell_type": "code",
   "execution_count": null,
   "metadata": {},
   "outputs": [
    {
     "name": "stdout",
     "output_type": "stream",
     "text": [
      "Resultados da recuperação:\n",
      "ID: 0, Score: 0.8069\n",
      "Texto: The Project Gutenberg eBook of On the Origin of Species By Means of Natural Selection This ebook is for the use of anyone anywhere in the United States and most other parts of the world at no cost and...\n",
      "-----\n",
      "ID: 6, Score: 0.7975\n",
      "Texto: frequently recurring struggle for existence, it follows that any being, if it vary however slightly in any manner profitable to itself, under the complex and sometimes varying conditions of life, will...\n",
      "-----\n",
      "ID: 315, Score: 0.7922\n",
      "Texto: selection may be extended. Effects of its adoption on the study of Natural history. Concluding remarks. As this whole volume is one long argument, it may be convenient to the reader to have the leadin...\n",
      "-----\n",
      "ID: 142, Score: 0.7885\n",
      "Texto: principle of natural selection. If we admire the several ingenious contrivances, by which the flowers of the orchis and of many other plants are fertilised through insect agency, can we consider as eq...\n",
      "-----\n",
      "ID: 90, Score: 0.7864\n",
      "Texto: that there exist but very few classes in each main division of the animal and vegetable kingdoms. Although extremely few of the most ancient species may now have living and modified descendants, yet a...\n",
      "-----\n"
     ]
    }
   ],
   "source": [
    "index = init_index()\n",
    "query = \"Como Darwin explica a seleção natural no livro?\"\n",
    "result = retrieve_relevant_chunks(query, index, top_k=5)\n",
    "print(\"Resultados da recuperação:\")\n",
    "for match in result.matches:\n",
    "    print(f\"ID: {match.id}, Score: {match.score:.4f}\")\n",
    "    print(f\"Texto: {match.metadata.get('text')[:200]}...\")\n",
    "    print(\"-----\")"
   ]
  }
 ],
 "metadata": {
  "kernelspec": {
   "display_name": "advanced_rag",
   "language": "python",
   "name": "python3"
  },
  "language_info": {
   "codemirror_mode": {
    "name": "ipython",
    "version": 3
   },
   "file_extension": ".py",
   "mimetype": "text/x-python",
   "name": "python",
   "nbconvert_exporter": "python",
   "pygments_lexer": "ipython3",
   "version": "3.9.21"
  }
 },
 "nbformat": 4,
 "nbformat_minor": 2
}
